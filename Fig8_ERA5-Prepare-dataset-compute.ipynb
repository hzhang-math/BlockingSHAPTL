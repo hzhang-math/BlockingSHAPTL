{
 "cells": [
  {
   "cell_type": "markdown",
   "metadata": {},
   "source": [
    "This is a notebook that \n",
    "- prepares the era5 dataset with different blocking duration thresholds.  (X and Y)\n",
    "- save them as  \"/scratch/hz1994/blocking/data_era5/test_data_1940-2022_T%d.npy\"%T and \"/scratch/hz1994/blocking/data_era5/test_labels_1940-2022_T%d.npy\"%T.\n",
    "\n",
    "For example, T can be 5,7,9 which filters the datapoints which starts a blocking that lasts continuously more than 5 days, more than 7 days and more than 9 days. Later they will be"
   ]
  },
  {
   "cell_type": "code",
   "execution_count": 1,
   "metadata": {},
   "outputs": [
    {
     "name": "stderr",
     "output_type": "stream",
     "text": [
      "/ext3/miniconda3/lib/python3.9/site-packages/scipy/__init__.py:146: UserWarning: A NumPy version >=1.16.5 and <1.23.0 is required for this version of SciPy (detected version 1.23.1\n",
      "  warnings.warn(f\"A NumPy version >={np_minversion} and <{np_maxversion}\"\n",
      "2024-03-24 19:56:34.455520: I tensorflow/core/util/port.cc:111] oneDNN custom operations are on. You may see slightly different numerical results due to floating-point round-off errors from different computation orders. To turn them off, set the environment variable `TF_ENABLE_ONEDNN_OPTS=0`.\n",
      "2024-03-24 19:56:45.545496: E tensorflow/compiler/xla/stream_executor/cuda/cuda_dnn.cc:9342] Unable to register cuDNN factory: Attempting to register factory for plugin cuDNN when one has already been registered\n",
      "2024-03-24 19:56:45.545573: E tensorflow/compiler/xla/stream_executor/cuda/cuda_fft.cc:609] Unable to register cuFFT factory: Attempting to register factory for plugin cuFFT when one has already been registered\n",
      "2024-03-24 19:56:45.546128: E tensorflow/compiler/xla/stream_executor/cuda/cuda_blas.cc:1518] Unable to register cuBLAS factory: Attempting to register factory for plugin cuBLAS when one has already been registered\n",
      "2024-03-24 19:56:50.932369: I tensorflow/core/platform/cpu_feature_guard.cc:182] This TensorFlow binary is optimized to use available CPU instructions in performance-critical operations.\n",
      "To enable the following instructions: AVX2 AVX512F AVX512_VNNI FMA, in other operations, rebuild TensorFlow with the appropriate compiler flags.\n",
      "2024-03-24 19:56:55.946833: W tensorflow/compiler/tf2tensorrt/utils/py_utils.cc:38] TF-TRT Warning: Could not find TensorRT\n"
     ]
    },
    {
     "name": "stdout",
     "output_type": "stream",
     "text": [
      "/scratch/hz1994/blocking/data_MMmodel/reduceddim/\n",
      "/scratch/hz1994/blocking/data_MMmodel/TMindex/\n",
      "/scratch/hz1994/blocking/data_MMmodel/dim/\n",
      "/scratch/hz1994/blocking/data_MMmodel/conditionT/\n",
      "/scratch/hz1994/blocking/data_MMmodel/CNNmodels/\n",
      "/scratch/hz1994/blocking/data_MMmodel/fig_MMmodel/\n"
     ]
    }
   ],
   "source": [
    "import numpy as np\n",
    "import xarray as xr\n",
    "import matplotlib.pyplot as plt\n",
    "import struct\n",
    "\n",
    "import cartopy\n",
    "from cartopy import crs as ccrs\n",
    "import matplotlib \n",
    "from matplotlib import pyplot as plt\n",
    "import os\n",
    "from os.path import join, exists\n",
    "from os import mkdir\n",
    "import scipy\n",
    "import netCDF4\n",
    "import matplotlib.ticker as mticker\n",
    "from cartopy.mpl.ticker import (LongitudeFormatter, LatitudeFormatter,\n",
    "                                LatitudeLocator, LongitudeLocator)\n",
    "import pandas as pd\n",
    "import matplotlib.path as mpath\n",
    "from matplotlib.colors import TwoSlopeNorm \n",
    "from sklearn.model_selection import train_test_split\n",
    "from scipy.fft import fft, ifft\n",
    "from scipy import signal\n",
    "from sklearn.decomposition import PCA\n",
    "from sklearn.linear_model import LogisticRegression\n",
    "import pickle\n",
    "import sys\n",
    "import tensorflow as tf\n",
    "from tensorflow.keras import datasets, layers, models\n",
    "import importlib.util\n",
    "import pathlib\n",
    "spec = importlib.util.spec_from_file_location(\"MM_dataprepare\", \\\n",
    "                        \"/scratch/hz1994/blocking/MMmodel/MMmodel/notebooks/MM_dataprepare.py\")\n",
    "MM_dataprepare = importlib.util.module_from_spec(spec)\n",
    "sys.modules[\"module.name\"] = MM_dataprepare\n",
    "spec.loader.exec_module(MM_dataprepare)\n",
    "spec = importlib.util.spec_from_file_location(\"MM_utilblocking\", \\\n",
    "                        \"/scratch/hz1994/blocking/MMmodel/MMmodel/notebooks/MM_utilblocking.py\")\n",
    "MM_utilblocking = importlib.util.module_from_spec(spec)\n",
    "sys.modules[\"module.name\"] = MM_utilblocking\n",
    "spec.loader.exec_module(MM_utilblocking)\n",
    "\n",
    "with open(\"/scratch/hz1994/blocking/data_MMmodel/filepath.txt\",\"r\") as fi:\n",
    "    for ln in fi:\n",
    "        if ln.startswith(\"Reduced_dim_variables\"):\n",
    "            rd_path=ln.strip().split('\\t')[1]\n",
    "        if ln.startswith(\"TMindex_filepath\"):\n",
    "            TMindex_path=ln.strip().split('\\t')[1]   \n",
    "        if ln.startswith(\"dimensionalized_filepath\"):\n",
    "            dim_path=ln.strip().split('\\t')[1]   \n",
    "        if ln.startswith(\"nondimensionalized_filepath\"):\n",
    "            nondim_path=ln.strip().split('\\t')[1]\n",
    "        if ln.startswith(\"conditionedT_filepath\" ):\n",
    "            train_path=ln.strip().split('\\t')[1]\n",
    "        if ln.startswith(\"model_filepath\" ):\n",
    "            models_path=ln.strip().split('\\t')[1]\n",
    "        if ln.startswith(\"fig_filepath\" ):\n",
    "            fig_path=ln.strip().split('\\t')[1]            \n",
    "            \n",
    "print(rd_path)\n",
    "print(TMindex_path)\n",
    "print(dim_path)\n",
    "print(train_path)\n",
    "print(models_path)\n",
    "print(fig_path)"
   ]
  },
  {
   "cell_type": "markdown",
   "metadata": {},
   "source": [
    "# Load the data and create the committor values if there is no committor yet. Later they will be the input in Era5-extremecase-split-train_test_datasets-and-training-and-evaluation-withnotes.ipynb"
   ]
  },
  {
   "cell_type": "code",
   "execution_count": 7,
   "metadata": {},
   "outputs": [
    {
     "name": "stdout",
     "output_type": "stream",
     "text": [
      "setA: T_reg==0\n",
      "computed Tk, A, B, forward and backward for era5-1940-2022Atl and saved to /scratch/hz1994/blocking/data_era5/\n"
     ]
    }
   ],
   "source": [
    "M=150\n",
    "T=9\n",
    "\n",
    "compute_indicator=True\n",
    "computeTk_committor=True\n",
    "compute_committor_only=False\n",
    "if compute_indicator:\n",
    "    zprime_500_atl0=xr.open_dataarray(\"/scratch/hz1994/blocking/data_era5/1940-1958/\"+\"Atlantic_zprime_\"+\"era5-\"+\"1940-1958\"+\"-z\"+\".nc\")\n",
    "    zprime_500_atl1=xr.open_dataarray(\"/scratch/hz1994/blocking/data_era5/1959-2022/\"+\"Atlantic_zprime_\"+\"era5-\"+\"1959-2022\"+\"-z\"+\".nc\")\n",
    "    zprime_500_atl=xr.combine_by_coords([zprime_500_atl0, zprime_500_atl1])\n",
    "\n",
    "    if computeTk_committor:\n",
    "        MM_utilblocking.computeTkandCommittor(zprime_500_atl,'Atl',\"era5-1940-2022\",\\\n",
    "                                              \"/scratch/hz1994/blocking/data_era5/\",M,T,\"T\",a=None)\n",
    "    if compute_committor_only:\n",
    "        T_reg=xr.open_dataarray(\"/scratch/hz1994/blocking/data_era5/Atl_Tk_era5-1940-2022.nc\")\n",
    "        MM_utilblocking.computeCommittor_only('Atl',T_reg,\"era5-1940-2022\",\\\n",
    "                                              \"/scratch/hz1994/blocking/data_era5/\",M,T,\"T\",a=None,zprime_reg=zprime_500_atl)"
   ]
  },
  {
   "cell_type": "markdown",
   "metadata": {},
   "source": [
    "# Create the dataset with the computed indicator "
   ]
  },
  {
   "cell_type": "code",
   "execution_count": 16,
   "metadata": {},
   "outputs": [],
   "source": [
    "\n",
    "T=9\n",
    "computeT1data=True\n",
    "if computeT1data:\n",
    "    Forward=xr.open_dataset(\"/scratch/hz1994/blocking/data_era5/Atl_committor_M_150_T_%d_era5-1940-2022.nc\"%T)['forward']\n",
    "    T_reg=xr.open_dataarray(\"/scratch/hz1994/blocking/data_era5/Atl_Tk_era5-1940-2022.nc\")\n",
    "    data0=xr.open_dataarray(\"/scratch/hz1994/blocking/data_era5/1940-1958/era5-1940-1958-z_lowpass3dys.nc\")\n",
    "    data1=xr.open_dataarray(\"/scratch/hz1994/blocking/data_era5/1959-2022/era5-1959-2022-z_lowpass3dys.nc\")\n",
    "    data=xr.combine_by_coords([data0, data1])\n",
    "    \n",
    "    X_T1=data['z'][T_reg.data==1]\n",
    "    X_T1_DJF=X_T1.sel(time=X_T1.time.dt.month.isin([12,1,2]))\n",
    "    Y_T1=Forward[T_reg.data==1] \n",
    "    Y_T1_DJF=Y_T1.sel(time=Y_T1.time.dt.month.isin([12,1,2]))\n",
    "    \n",
    "    data_std=X_T1_DJF.std(axis=0 )\n",
    "    data_mean=X_T1_DJF.mean(axis=0 )\n",
    "    data_preprocessed=(X_T1_DJF-data_mean)/data_std \n",
    "\n",
    "    np.save(\"/scratch/hz1994/blocking/data_era5/test_data_1940-2022.npy\",data_preprocessed)\n",
    "    np.save(\"/scratch/hz1994/blocking/data_era5/test_labels_1940-2022_T%d.npy\"%T,Y_T1_DJF.data)"
   ]
  },
  {
   "cell_type": "markdown",
   "metadata": {},
   "source": [
    "# Plot the distribution of blocking duration\n"
   ]
  },
  {
   "cell_type": "code",
   "execution_count": 7,
   "metadata": {},
   "outputs": [
    {
     "data": {
      "text/plain": [
       "Text(0.5, 1.0, 'Distribution of blocking state durations for ERA5 DJF data')"
      ]
     },
     "execution_count": 7,
     "metadata": {},
     "output_type": "execute_result"
    },
    {
     "data": {
      "image/png": "[encoded data removed]",
      "text/plain": [
       "<Figure size 640x480 with 1 Axes>"
      ]
     },
     "metadata": {},
     "output_type": "display_data"
    }
   ],
   "source": [
    "\n",
    "T_atl=xr.open_dataarray(\"/scratch/hz1994/blocking/data_era5/Atl_Tk_era5-1940-2022.nc\")\n",
    "T_atl_DJF=T_atl.sel(time=T_atl.time.dt.month.isin([12,1,2]))\n",
    "fig,ax=plt.subplots()\n",
    "h,b,p=ax.hist(T_atl_DJF.data,bins=np.arange(0.5,20.5,1))\n",
    "ax.set_xlabel(\"Duration (days)\")\n",
    "ax.set_ylabel(\"Counts\")\n",
    "ax.set_title(\"Distribution of blocking state durations for ERA5 DJF data\")"
   ]
  },
  {
   "cell_type": "markdown",
   "metadata": {},
   "source": [
    "# Single frame data for oversampling during transfer learning"
   ]
  },
  {
   "cell_type": "code",
   "execution_count": 25,
   "metadata": {},
   "outputs": [],
   "source": [
    "single_frame_path=\"/scratch/hz1994/blocking/data_era5/data1940-2022/\"\n",
    "data=np.load(\"/scratch/hz1994/blocking/data_era5/test_data_1940-2022.npy\")\n",
    "for ID in range(data.shape[0]):\n",
    "    np.save(single_frame_path+'dataX_' + str(ID) + '.npy',data[ID])"
   ]
  },
  {
   "cell_type": "code",
   "execution_count": null,
   "metadata": {},
   "outputs": [],
   "source": []
  }
 ],
 "metadata": {
  "kernelspec": {
   "display_name": "my_env",
   "language": "python",
   "name": "my_env"
  },
  "language_info": {
   "codemirror_mode": {
    "name": "ipython",
    "version": 3
   },
   "file_extension": ".py",
   "mimetype": "text/x-python",
   "name": "python",
   "nbconvert_exporter": "python",
   "pygments_lexer": "ipython3",
   "version": "3.9.12"
  }
 },
 "nbformat": 4,
 "nbformat_minor": 4
}
