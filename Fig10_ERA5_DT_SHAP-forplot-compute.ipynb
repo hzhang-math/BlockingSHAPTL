{
 "cells": [
  {
   "cell_type": "markdown",
   "metadata": {},
   "source": [
    "This notebook is used to \n",
    "- compute the SHAP value change for DT\n",
    "- plot the SHAP value maps\n",
    "- notice that the prob in the title is that f(x) becomes committor."
   ]
  },
  {
   "cell_type": "code",
   "execution_count": null,
   "metadata": {},
   "outputs": [],
   "source": [
    "import xarray as xr\n",
    "import numpy as np\n",
    "import cartopy\n",
    "from cartopy import crs as ccrs\n",
    "import matplotlib \n",
    "matplotlib.rcParams[\"font.size\"] = 12\n",
    "from matplotlib import pyplot as plt\n",
    "from os.path import join, exists\n",
    "from os import mkdir\n",
    "import scipy\n",
    "import netCDF4\n",
    "import sklearn\n",
    "import sys\n",
    "import matplotlib.ticker as mticker\n",
    "from cartopy.mpl.ticker import (LongitudeFormatter, LatitudeFormatter,\n",
    "                                LatitudeLocator, LongitudeLocator)\n",
    "%matplotlib inline\n",
    "import matplotlib.path as mpath\n",
    "import importlib.util\n",
    "import MM_util_AI\n",
    "import MM_utilplot\n",
    "import warnings\n",
    "import pickle\n",
    "\n",
    "warnings.filterwarnings(\"ignore\", message=\".*The 'nopython' keyword.*\")\n",
    "import shap\n",
    "import tensorflow as tf\n",
    "from sklearn.metrics import confusion_matrix,recall_score,precision_score\n",
    "import matplotlib.colors as colors\n",
    "import os\n",
    "\n",
    "spec = importlib.util.spec_from_file_location(\"MM_dataprepare\", \\\n",
    "                        \"/scratch/hz1994/blocking/MMmodel/MMmodel/notebooks/MM_dataprepare.py\")\n",
    "MM_dataprepare = importlib.util.module_from_spec(spec)\n",
    "sys.modules[\"module.name\"] = MM_dataprepare\n",
    "spec.loader.exec_module(MM_dataprepare)\n",
    "\n",
    "spec = importlib.util.spec_from_file_location(\"MM_utilblocking\", \\\n",
    "                        \"/scratch/hz1994/blocking/MMmodel/MMmodel/notebooks/MM_utilblocking.py\")\n",
    "MM_utilblocking = importlib.util.module_from_spec(spec)\n",
    "sys.modules[\"module.name\"] = MM_utilblocking\n",
    "spec.loader.exec_module(MM_utilblocking)\n",
    "\n",
    " \n",
    "            \n",
    "with open(\"/scratch/hz1994/blocking/data_MMmodel/filepath.txt\",\"r\") as fi:\n",
    "    for ln in fi:\n",
    "        if ln.startswith(\"dimensionalized_filepath\"):\n",
    "            dim_path=ln.strip().split('\\t')[1]\n",
    "        if ln.startswith(\"nondimensionalized_filepath\"):\n",
    "            nondim_path=ln.strip().split('\\t')[1]\n",
    "        if ln.startswith(\"code_filepath\"):\n",
    "            code_path=ln.strip().split('\\t')[1]            \n",
    "        if ln.startswith(\"DGindex_filepath\"):\n",
    "            DGindex_path=ln.strip().split('\\t')[1]  \n",
    "        if ln.startswith(\"conditionedT_filepath\" ):\n",
    "            train_path=ln.strip().split('\\t')[1]\n",
    "        if ln.startswith(\"model_filepath\" ):\n",
    "            models_path=ln.strip().split('\\t')[1]\n",
    "        if ln.startswith(\"fig_filepath\" ):\n",
    "            fig_path=ln.strip().split('\\t')[1] \n",
    "print(dim_path)\n",
    "print(nondim_path)\n",
    "print(code_path)\n",
    "print(DGindex_path)\n",
    "print(train_path)\n",
    "print(models_path)\n",
    "print(fig_path)\n",
    "train_path_setA=train_path+'T/'\n",
    "models_path_setA=models_path+'T/'\n",
    "import tensorflow as tf\n"
   ]
  },
  {
   "cell_type": "markdown",
   "metadata": {},
   "source": [
    "# Prepare data"
   ]
  },
  {
   "cell_type": "code",
   "execution_count": null,
   "metadata": {},
   "outputs": [],
   "source": [
    "Duration=5\n",
    "cnnsize=\"normal\"\n",
    "data_amount=\"1000.0k\"\n",
    "random_seed=30\n",
    "epsilon=0\n",
    "trainable_layer_number=7  \n",
    "epoch_DT=3  \n",
    "class_imb_Method=\"\"\n",
    "\n",
    "X=np.load(\"/scratch/hz1994/blocking/data_era5/\"+\"test_data_1940-2022.npy\")  \n",
    "Ysparse=np.load(\"/scratch/hz1994/blocking/data_era5/\"+\"test_labels_1940-2022_T%d.npy\"%Duration)\n",
    "Y=np.zeros((Ysparse.size,2)).astype(bool)\n",
    "Y[:,1][Ysparse==1]=True  #blocking\n",
    "Y[:,0][Ysparse==0]=True\n",
    "latitudes = np.load(dim_path+'dataX_lat.npy')\n",
    "longitudes = np.load(dim_path+'dataX_lon.npy')\n",
    "X_dim=X[0].size"
   ]
  },
  {
   "cell_type": "markdown",
   "metadata": {},
   "source": [
    "# Load model before transfer learning"
   ]
  },
  {
   "cell_type": "code",
   "execution_count": null,
   "metadata": {},
   "outputs": [],
   "source": [
    "tf.config.experimental_run_functions_eagerly(False)\n",
    "if cnnsize==\"smaller\":\n",
    "    DT_model = MM_util_AI.make_s_model((18,90,3))\n",
    "elif cnnsize==\"smaller_smaller\":\n",
    "    DT_model = MM_util_AI.make_ss_model((18,90,3))\n",
    "elif cnnsize==\"normal\":\n",
    "    DT_model = MM_util_AI.make_model((18,90,3))\n"
   ]
  },
  {
   "cell_type": "markdown",
   "metadata": {},
   "source": [
    "# Pick the data we want to make the plot: TP  "
   ]
  },
  {
   "cell_type": "code",
   "execution_count": null,
   "metadata": {},
   "outputs": [],
   "source": [
    "TP_consistent=np.ones(Y.shape[0]).astype(bool)\n",
    "for random_seed in range(10): \n",
    "    path=\"/scratch/hz1994/blocking/data_MMmodel/CNNmodels/T/era5_trainCNN\"+class_imb_Method+\"/extreme_%ddaysblocking/%s/\"%(Duration,cnnsize)\\\n",
    "                +\"random_initCNN_%d/\"%(random_seed)\n",
    "    for num in range(10): \n",
    "        weightpath=path+\"%d/\"%num +\"cp-%04d.ckpt\"%epoch_DT \n",
    "        DT_model.load_weights(weightpath)\n",
    "        predictions = DT_model.predict(X,verbose=None)\n",
    "        pred_DT=(predictions[:,0]<predictions[:,1])\n",
    "        TP_consistent=np.logical_and(TP_consistent,np.logical_and(pred_DT, Ysparse)) "
   ]
  },
  {
   "cell_type": "code",
   "execution_count": null,
   "metadata": {
    "scrolled": true
   },
   "outputs": [],
   "source": [
    "plot1=[]\n",
    "for random_seed in range(10):\n",
    "    path=\"/scratch/hz1994/blocking/data_MMmodel/CNNmodels/T/era5_trainCNN\"+class_imb_Method+\"/extreme_%ddaysblocking/%s/\"%(Duration,cnnsize)\\\n",
    "                +\"random_initCNN_%d/\"%(random_seed)\n",
    "    for num in range(10): \n",
    "        DT_shap=np.load(path+\"%d/\"%num+\"shap_values_era5_epoch%d.npy\"%epoch_DT)[TP_consistent,1,0]\n",
    "        plot1.append(DT_shap)  \n",
    "plot1=np.array(plot1)\n",
    "plot1_mean=plot1.mean(axis=(0,1))\n",
    "save_path= \"/scratch/hz1994/blocking/MMmodel/MMmodel/notebooks/All_paper_Jupyter_script/\"\n",
    "np.save(save_path+\"shap_DT\",plot1_mean)"
   ]
  },
  {
   "cell_type": "code",
   "execution_count": null,
   "metadata": {},
   "outputs": [],
   "source": []
  }
 ],
 "metadata": {
  "kernelspec": {
   "display_name": "my_env",
   "language": "python",
   "name": "my_env"
  },
  "language_info": {
   "codemirror_mode": {
    "name": "ipython",
    "version": 3
   },
   "file_extension": ".py",
   "mimetype": "text/x-python",
   "name": "python",
   "nbconvert_exporter": "python",
   "pygments_lexer": "ipython3",
   "version": "3.9.12"
  }
 },
 "nbformat": 4,
 "nbformat_minor": 4
}
