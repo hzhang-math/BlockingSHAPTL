{
 "cells": [
  {
   "cell_type": "code",
   "execution_count": 1,
   "id": "8443b06a-b58f-4648-af84-ae29adeaf0d8",
   "metadata": {},
   "outputs": [
    {
     "name": "stderr",
     "output_type": "stream",
     "text": [
      "/ext3/miniconda3/lib/python3.9/site-packages/scipy/__init__.py:146: UserWarning: A NumPy version >=1.16.5 and <1.23.0 is required for this version of SciPy (detected version 1.23.1\n",
      "  warnings.warn(f\"A NumPy version >={np_minversion} and <{np_maxversion}\"\n"
     ]
    },
    {
     "name": "stdout",
     "output_type": "stream",
     "text": [
      "/scratch/hz1994/blocking/data_MMmodel/dim/\n",
      "/scratch/hz1994/blocking/data_MMmodel/nondim/\n",
      "/scratch/hz1994/blocking/data_MMmodel/TMindex/\n",
      "/scratch/hz1994/blocking/data_MMmodel/DGindex/\n",
      "/scratch/hz1994/blocking/data_MMmodel/fig_MMmodel/\n"
     ]
    }
   ],
   "source": [
    "import numpy as np\n",
    "import xarray as xr\n",
    "import matplotlib.pyplot as plt\n",
    "import struct\n",
    "\n",
    "import cartopy\n",
    "from cartopy import crs as ccrs\n",
    "import matplotlib \n",
    "from matplotlib import pyplot as plt\n",
    "import os\n",
    "from os.path import join, exists\n",
    "from os import mkdir\n",
    "import scipy\n",
    "import netCDF4\n",
    "import matplotlib.ticker as mticker\n",
    "from cartopy.mpl.ticker import (LongitudeFormatter, LatitudeFormatter,\n",
    "                                LatitudeLocator, LongitudeLocator)\n",
    "import pandas as pd\n",
    "import matplotlib.path as mpath\n",
    "from matplotlib.colors import TwoSlopeNorm \n",
    "\n",
    "time_scale=86400/2/np.pi\n",
    "length_scale=6370*1000\n",
    "PSI_scale=length_scale**2/time_scale\n",
    "\n",
    "with open(\"/scratch/hz1994/blocking/data_MMmodel/filepath.txt\",\"r\") as fi:\n",
    "    for ln in fi:\n",
    "        if ln.startswith(\"dimensionalized_filepath\"):\n",
    "            dim_path=ln.strip().split('\\t')[1]\n",
    "        if ln.startswith(\"TMindex_filepath\"):\n",
    "            TMindex_path=ln.strip().split('\\t')[1]  \n",
    "        if ln.startswith(\"nondimensionalized_filepath\"):\n",
    "            nondim_path=ln.strip().split('\\t')[1]\n",
    "        if ln.startswith(\"DGindex_filepath\"):\n",
    "            DGindex_path=ln.strip().split('\\t')[1]  \n",
    "        if ln.startswith(\"fig_filepath\" ):\n",
    "            fig_path=ln.strip().split('\\t')[1]  \n",
    "print(dim_path)\n",
    "print(nondim_path)\n",
    "print(TMindex_path)\n",
    "print(DGindex_path)\n",
    "print(fig_path)\n"
   ]
  },
  {
   "cell_type": "markdown",
   "id": "5a77db77-605f-41dd-8221-73d82ba9b39b",
   "metadata": {},
   "source": [
    "# Compute composite of T>=5 and T=0 for MM model"
   ]
  },
  {
   "cell_type": "code",
   "execution_count": null,
   "id": "17484fa6-a7e7-40b2-9edd-982229ffcf3b",
   "metadata": {},
   "outputs": [],
   "source": [
    "Z500=xr.open_dataarray(dim_path+\"dim_Z500_1250k_lowpass3dys.nc\" )\n",
    "Tk=xr.open_dataarray(DGindex_path+\"Atl_Tk_1250k_lowpass3dys.nc\")\n",
    "\n",
    "\n",
    "Z500=Z500.sel(latitude=slice(20,90))\n",
    "std_z=Z500.std(dim='time')\n",
    "mean_z=Z500.mean(dim='time')\n",
    "std_z.to_netcdf(fig_path+\"std_z.nc\")\n",
    "mean_z.to_netcdf(fig_path+\"mean_z.nc\")\n",
    "blocking_composite=Z500[Tk>=5].mean(dim=\"time\")\n",
    "non_blocking_composite=Z500[Tk==0].mean(dim=\"time\")\n",
    "latitudes=Z500.latitude.sel(latitude=slice(20,90))\n",
    "longitudes=Z500.longitude\n",
    "latitudes.to_netcdf(fig_path+\"latitudes.nc\")\n",
    "longitudes.to_netcdf(fig_path+\"longitudes.nc\")\n",
    "blocking_composite.to_netcdf(fig_path+\"blocking_composite_MM.nc\")\n",
    "non_blocking_composite.to_netcdf(fig_path+\"non_blocking_composite.nc\")\n"
   ]
  },
  {
   "cell_type": "markdown",
   "id": "99c98317-abec-45b2-885c-2c38c0ce580d",
   "metadata": {},
   "source": [
    "# Compute blocking statistics for MMmodel"
   ]
  },
  {
   "cell_type": "code",
   "execution_count": 4,
   "id": "6ae6623b-c1fe-42e1-a385-e0eee67c621c",
   "metadata": {},
   "outputs": [],
   "source": [
    "def IB2duration(lsbyear,day): #5 days duration criteria\n",
    "    start=lsbyear.copy(deep=True)\n",
    "    for i in range(day): # identify the points with the forward 1,2,3,4 being true (within LSB). notice we pad the shift by false at the end since a blocking event cannot start there (<5days)\n",
    "        start=start & lsbyear.shift(time=-i,fill_value=False)\n",
    "    event=start.copy(deep=True) # include the points forward 1,2,3,4 \n",
    "    for i in range(day):\n",
    "        event=event | start.shift(time=i,fill_value=False)\n",
    "    return event\n",
    "def fmt(x):\n",
    "    s = f\"{x:.1f}\"\n",
    "    if s.endswith(\"0\"):\n",
    "        s = f\"{x:.0f}\"\n",
    "    return rf\"{s} \" if plt.rcParams[\"text.usetex\"] else f\"{s} \"\n",
    "\n",
    "zprime=xr.open_dataarray(dim_path+\"dim_Zprime500_1250k_lowpass3dys.nc\" )\n",
    "\n",
    "M=100\n",
    "T=5 \n",
    "\n",
    "zprime=zprime.sel(latitude=slice(20,90))\n",
    "IB_positive=zprime>=M\n",
    "blockings_positive=IB2duration(IB_positive,T)\n",
    "mean=blockings_positive.mean(dim='time')\n",
    "start=(((blockings_positive.data[1:])*1-(blockings_positive.data[:-1])*1)==1).sum(axis=0)\n",
    "pltstart=mean.copy(deep=True,data=start)\n",
    "\n",
    "num_MM=pltstart\n",
    "percent_MM=mean*100 \n",
    "num_MM.to_netcdf(fig_path+\"num_MM.nc\")\n",
    "percent_MM.to_netcdf(fig_path+\"percent_MM.nc\")"
   ]
  },
  {
   "cell_type": "markdown",
   "id": "eaa14218-17a7-45b0-aa21-4ef268b0a04d",
   "metadata": {},
   "source": [
    "# Compute blocking statistics for ERA5"
   ]
  },
  {
   "cell_type": "code",
   "execution_count": null,
   "id": "f0ccaa87-2ff5-4fef-bde1-40ca7d2a19da",
   "metadata": {},
   "outputs": [],
   "source": [
    "ds_all=xr.open_dataset(\"/scratch/hz1994/blocking/DG/1959-2021_data/1959-2021-integrate-ds_new.nc\")\n",
    "dsanomalies=ds_all['gh'].groupby('time.dayofyear')-ds_all['gh'].groupby('time.dayofyear').mean()\n",
    "scale=1/np.sin(dsanomalies.coords['latitude']*np.pi/180)*np.sin(45*np.pi/180)\n",
    "zprime=(dsanomalies*scale).sel(latitude=np.arange(20,90+2.5,2.5))\n",
    "startyear=1959\n",
    "endyear=2021\n",
    "\n",
    "M=150\n",
    "T=5\n",
    "\n",
    "DJF=True\n",
    "strDJF=DJF*'DJF'\n",
    "if DJF:\n",
    "    zprime=zprime.sel(time=slice(str(startyear)+'-12-01',str(endyear)+'-03-01'))\n",
    "    zprime=zprime.sel(time=zprime.time.dt.month.isin([12,1,2]))\n",
    "else:\n",
    "    zprime=zprime.sel(time=slice(str(startyear),str(endyear)))\n",
    "\n",
    "IB_positive=zprime>=M\n",
    "IB_negative=zprime<-M\n",
    "IB_both=IB_positive|IB_negative\n",
    "blockings_positive=IB2duration(IB_positive,T)\n",
    "blockings_negative=IB2duration(IB_negative,T)\n",
    "blockings_both=IB2duration(IB_both,T)\n",
    "\n",
    "start=(((blockings_positive.data[1:])*1-(blockings_positive.data[:-1])*1)==1).sum(axis=0)\n",
    "pltstart=blockings_positive.mean(dim='time').copy(deep=True,data=start)\n",
    "\n",
    "num_era5=pltstart\n",
    "percent_era5=blockings_positive.mean(dim='time')*100\n",
    "\n",
    "num_era5.to_netcdf(fig_path+\"num_blocking_era5.nc\")\n",
    "percent_era5.to_netcdf(fig_path+\"percent_blocking_era5.nc\")"
   ]
  },
  {
   "cell_type": "code",
   "execution_count": null,
   "id": "0836642c-a73d-4e8d-af42-7478f5bc12d2",
   "metadata": {},
   "outputs": [],
   "source": []
  },
  {
   "cell_type": "code",
   "execution_count": null,
   "id": "c7ee97fe-c6ba-462d-af40-ceb7ec03bd90",
   "metadata": {},
   "outputs": [],
   "source": []
  }
 ],
 "metadata": {
  "kernelspec": {
   "display_name": "my_env",
   "language": "python",
   "name": "my_env"
  },
  "language_info": {
   "codemirror_mode": {
    "name": "ipython",
    "version": 3
   },
   "file_extension": ".py",
   "mimetype": "text/x-python",
   "name": "python",
   "nbconvert_exporter": "python",
   "pygments_lexer": "ipython3",
   "version": "3.9.12"
  }
 },
 "nbformat": 4,
 "nbformat_minor": 5
}
